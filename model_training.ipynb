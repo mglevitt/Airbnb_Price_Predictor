{
 "cells": [
  {
   "cell_type": "code",
   "execution_count": 1,
   "metadata": {},
   "outputs": [
    {
     "name": "stderr",
     "output_type": "stream",
     "text": [
      "C:\\Users\\maxym\\anaconda3\\lib\\site-packages\\IPython\\core\\interactiveshell.py:3071: DtypeWarning: Columns (30) have mixed types.Specify dtype option on import or set low_memory=False.\n",
      "  has_raised = await self.run_ast_nodes(code_ast.body, cell_name,\n"
     ]
    }
   ],
   "source": [
    "import pandas as pd\n",
    "\n",
    "df = pd.read_csv('train.csv')\n",
    "test_df = pd.read_csv('test.csv')"
   ]
  },
  {
   "cell_type": "code",
   "execution_count": 2,
   "metadata": {},
   "outputs": [],
   "source": [
    "from sklearn.metrics import mean_squared_error\n",
    "import matplotlib.pyplot as plt\n",
    "import numpy as np\n",
    "import os\n",
    "import pandas as pd\n",
    "import seaborn as sns\n",
    "from sklearn.linear_model import LinearRegression\n",
    "from sklearn.preprocessing import FunctionTransformer\n",
    "from sklearn.preprocessing import OneHotEncoder\n",
    "from sklearn.pipeline import Pipeline\n",
    "from sklearn.compose import ColumnTransformer\n",
    "\n",
    "from sklearn.tree import DecisionTreeRegressor\n",
    "from sklearn.model_selection import train_test_split\n",
    "from sklearn.neighbors import KNeighborsRegressor\n",
    "from sklearn.model_selection import train_test_split\n",
    "from sklearn.tree import DecisionTreeClassifier\n",
    "%matplotlib inline\n",
    "%config InlineBackend.figure_format = 'retina'  # Higher resolution figures\n",
    "import math\n",
    "from sklearn.impute import SimpleImputer\n",
    "from  sklearn.svm import SVC\n",
    "from sklearn.ensemble import RandomForestClassifier\n",
    "from sklearn.tree import DecisionTreeClassifier\n",
    "from sklearn import tree\n",
    "from sklearn.ensemble import RandomForestRegressor"
   ]
  },
  {
   "cell_type": "code",
   "execution_count": 3,
   "metadata": {},
   "outputs": [
    {
     "name": "stdout",
     "output_type": "stream",
     "text": [
      "33538\n"
     ]
    }
   ],
   "source": [
    "print(len(df))"
   ]
  },
  {
   "cell_type": "code",
   "execution_count": 4,
   "metadata": {
    "scrolled": true
   },
   "outputs": [
    {
     "data": {
      "text/plain": [
       "Index(['id', 'name', 'summary', 'space', 'description', 'experiences_offered',\n",
       "       'neighborhood_overview', 'notes', 'transit', 'access', 'interaction',\n",
       "       'house_rules', 'host_id', 'host_name', 'host_since', 'host_location',\n",
       "       'host_about', 'host_response_time', 'host_response_rate',\n",
       "       'host_acceptance_rate', 'host_is_superhost', 'host_neighbourhood',\n",
       "       'host_listings_count', 'host_verifications', 'host_has_profile_pic',\n",
       "       'host_identity_verified', 'neighbourhood_cleansed',\n",
       "       'neighbourhood_group_cleansed', 'city', 'state', 'zipcode', 'market',\n",
       "       'country_code', 'country', 'property_type', 'room_type', 'accommodates',\n",
       "       'bathrooms', 'bedrooms', 'beds', 'bed_type', 'amenities', 'square_feet',\n",
       "       'price', 'guests_included', 'extra_people', 'minimum_nights',\n",
       "       'maximum_nights', 'number_of_reviews', 'first_review', 'last_review',\n",
       "       'review_scores_rating', 'review_scores_accuracy',\n",
       "       'review_scores_cleanliness', 'review_scores_checkin',\n",
       "       'review_scores_communication', 'review_scores_location',\n",
       "       'review_scores_value', 'instant_bookable', 'is_business_travel_ready',\n",
       "       'cancellation_policy', 'require_guest_profile_picture',\n",
       "       'require_guest_phone_verification', 'calculated_host_listings_count',\n",
       "       'reviews_per_month'],\n",
       "      dtype='object')"
      ]
     },
     "execution_count": 4,
     "metadata": {},
     "output_type": "execute_result"
    }
   ],
   "source": [
    "df.columns"
   ]
  },
  {
   "cell_type": "code",
   "execution_count": 5,
   "metadata": {},
   "outputs": [
    {
     "name": "stdout",
     "output_type": "stream",
     "text": [
      "id 22267382\n",
      "\n",
      "name Modern and Cozy Large Studio in Brooklyn\n",
      "\n",
      "summary Modern large studio with new amenities and appliances on the 40th floor in Brooklyn, 10 - 15 min from Manhattan by subway, all major subways close by, Fort Greene Park, BAM, Barclay Center, great restaurants. Washer/Dryer available in the unit. Gym available in the building at no additional cost\n",
      "\n",
      "space Our place is a little quiet sanctuary in the heart of Fort Greene. Amazing views from the apartment and common area on the 41st floor. Looking for respectful guests, singles/couples, who'll treat this home as theirs. *The studio available is almost identical to the one in pics, but slightly smaller. The rest of the information is the same.That's why we are offering an additional discount.\n",
      "\n",
      "description Modern large studio with new amenities and appliances on the 40th floor in Brooklyn, 10 - 15 min from Manhattan by subway, all major subways close by, Fort Greene Park, BAM, Barclay Center, great restaurants. Washer/Dryer available in the unit. Gym available in the building at no additional cost Our place is a little quiet sanctuary in the heart of Fort Greene. Amazing views from the apartment and common area on the 41st floor. Looking for respectful guests, singles/couples, who'll treat this home as theirs. *The studio available is almost identical to the one in pics, but slightly smaller. The rest of the information is the same.That's why we are offering an additional discount. Washer/Dryer Dishwasher Internet Gym Roof Top Access Reception Area Coffee/Tea/Light Breakfast at the common area Depending on the time of your visit, I'll be here to greet you or will leave the keys/instructions with the concierge BAM, Barclays, Brooklyn City Point, Fort Greene Park, Prospect Park, amazing re\n",
      "\n",
      "experiences_offered none\n",
      "\n",
      "neighborhood_overview BAM, Barclays, Brooklyn City Point, Fort Greene Park, Prospect Park, amazing restaurants, home of Spike Lee’s film studio, 1 subway stop away from Manhattan\n",
      "\n",
      "notes nan\n",
      "\n",
      "transit Subway: 2,3,4,5,A,C,B,Q,G\n",
      "\n",
      "access Washer/Dryer Dishwasher Internet Gym Roof Top Access Reception Area Coffee/Tea/Light Breakfast at the common area\n",
      "\n",
      "interaction Depending on the time of your visit, I'll be here to greet you or will leave the keys/instructions with the concierge\n",
      "\n",
      "house_rules - Please be respectful of our neighbors, no loud music after 10p\n",
      "\n",
      "host_id 1910170\n",
      "\n",
      "host_name Katarina\n",
      "\n",
      "host_since 2012-03-12\n",
      "\n",
      "host_location Los Angeles, California, United States\n",
      "\n",
      "host_about Traveler, Artist, Philanthropist\n",
      "\n",
      "host_response_time nan\n",
      "\n",
      "host_response_rate nan\n",
      "\n",
      "host_acceptance_rate nan\n",
      "\n",
      "host_is_superhost f\n",
      "\n",
      "host_neighbourhood Fort Greene\n",
      "\n",
      "host_listings_count 1.0\n",
      "\n",
      "host_verifications ['email', 'phone', 'reviews', 'jumio', 'government_id']\n",
      "\n",
      "host_has_profile_pic t\n",
      "\n",
      "host_identity_verified t\n",
      "\n",
      "neighbourhood_cleansed Fort Greene\n",
      "\n",
      "neighbourhood_group_cleansed Brooklyn\n",
      "\n",
      "city Brooklyn\n",
      "\n",
      "state NY\n",
      "\n",
      "zipcode 11217.0\n",
      "\n",
      "market New York\n",
      "\n",
      "country_code US\n",
      "\n",
      "country United States\n",
      "\n",
      "property_type Loft\n",
      "\n",
      "room_type Entire home/apt\n",
      "\n",
      "accommodates 2\n",
      "\n",
      "bathrooms 1.0\n",
      "\n",
      "bedrooms 1.0\n",
      "\n",
      "beds 1.0\n",
      "\n",
      "bed_type Real Bed\n",
      "\n",
      "amenities {Wifi,\"Air conditioning\",Kitchen,Gym,Breakfast,Elevator,Heating,Washer,Dryer,\"Smoke detector\",\"Carbon monoxide detector\",\"First aid kit\",\"Safety card\",\"Fire extinguisher\",Essentials,Shampoo,Hangers,\"Hair dryer\",Iron,\"Laptop friendly workspace\",\"Self check-in\",\"Building staff\",\"Hot water\",\"Luggage dropoff allowed\"}\n",
      "\n",
      "square_feet nan\n",
      "\n",
      "price 145.0\n",
      "\n",
      "guests_included 2\n",
      "\n",
      "extra_people $30.00\n",
      "\n",
      "minimum_nights 7\n",
      "\n",
      "maximum_nights 12\n",
      "\n",
      "number_of_reviews 6\n",
      "\n",
      "first_review 2018-01-01\n",
      "\n",
      "last_review 2018-07-03\n",
      "\n",
      "review_scores_rating 100.0\n",
      "\n",
      "review_scores_accuracy 10.0\n",
      "\n",
      "review_scores_cleanliness 10.0\n",
      "\n",
      "review_scores_checkin 10.0\n",
      "\n",
      "review_scores_communication 10.0\n",
      "\n",
      "review_scores_location 10.0\n",
      "\n",
      "review_scores_value 10.0\n",
      "\n",
      "instant_bookable t\n",
      "\n",
      "is_business_travel_ready f\n",
      "\n",
      "cancellation_policy flexible\n",
      "\n",
      "require_guest_profile_picture f\n",
      "\n",
      "require_guest_phone_verification f\n",
      "\n",
      "calculated_host_listings_count 1\n",
      "\n",
      "reviews_per_month 0.59\n",
      "\n"
     ]
    }
   ],
   "source": [
    "for i in df.columns:\n",
    "    print(i + ' ' +str(df[i][0]))\n",
    "    print('')"
   ]
  },
  {
   "cell_type": "code",
   "execution_count": 6,
   "metadata": {
    "scrolled": false
   },
   "outputs": [
    {
     "data": {
      "text/plain": [
       "<matplotlib.axes._subplots.AxesSubplot at 0x1caed680850>"
      ]
     },
     "execution_count": 6,
     "metadata": {},
     "output_type": "execute_result"
    },
    {
     "data": {
      "image/png": "[encoded data removed]",
      "text/plain": [
       "<Figure size 432x288 with 1 Axes>"
      ]
     },
     "metadata": {
      "image/png": {
       "height": 248,
       "width": 381
      },
      "needs_background": "light"
     },
     "output_type": "display_data"
    }
   ],
   "source": [
    "df['price'].hist(bins = 1000)"
   ]
  },
  {
   "cell_type": "code",
   "execution_count": 176,
   "metadata": {},
   "outputs": [
    {
     "data": {
      "text/plain": [
       "cancellation_policy\n",
       "long_term                          1\n",
       "strict                             1\n",
       "super_strict_30                   34\n",
       "super_strict_60                   81\n",
       "moderate                        7746\n",
       "flexible                       10345\n",
       "strict_14_with_grace_period    15330\n",
       "dtype: int64"
      ]
     },
     "execution_count": 176,
     "metadata": {},
     "output_type": "execute_result"
    }
   ],
   "source": [
    "cnts =df.groupby('cancellation_policy').size().sort_values()\n",
    "cnts"
   ]
  },
  {
   "cell_type": "code",
   "execution_count": 177,
   "metadata": {
    "scrolled": false
   },
   "outputs": [
    {
     "data": {
      "text/plain": [
       "cancellation_policy\n",
       "long_term                       95.000000\n",
       "strict                          95.000000\n",
       "flexible                       130.715901\n",
       "moderate                       133.929770\n",
       "strict_14_with_grace_period    159.158513\n",
       "super_strict_30                279.882353\n",
       "super_strict_60                366.345679\n",
       "Name: price, dtype: float64"
      ]
     },
     "execution_count": 177,
     "metadata": {},
     "output_type": "execute_result"
    }
   ],
   "source": [
    "means =df.groupby('cancellation_policy').mean()['price'].sort_values()\n",
    "means"
   ]
  },
  {
   "cell_type": "code",
   "execution_count": 178,
   "metadata": {},
   "outputs": [
    {
     "data": {
      "text/plain": [
       "cancellation_policy\n",
       "long_term                       95.0\n",
       "strict                          95.0\n",
       "flexible                        98.0\n",
       "moderate                       100.0\n",
       "strict_14_with_grace_period    120.0\n",
       "super_strict_60                280.0\n",
       "super_strict_30                294.0\n",
       "Name: price, dtype: float64"
      ]
     },
     "execution_count": 178,
     "metadata": {},
     "output_type": "execute_result"
    }
   ],
   "source": [
    "medians =df.groupby('cancellation_policy').median()['price'].sort_values()\n",
    "medians"
   ]
  },
  {
   "cell_type": "code",
   "execution_count": 10,
   "metadata": {},
   "outputs": [],
   "source": [
    "q3 =df[['property_type','price']].groupby('property_type').quantile(.75)['price'].sort_values()\n",
    "q1 = df[['property_type','price']].groupby('property_type').quantile(.75)['price'].sort_values()"
   ]
  },
  {
   "cell_type": "code",
   "execution_count": 11,
   "metadata": {},
   "outputs": [],
   "source": [
    "mx =df[['property_type','price']].groupby('property_type').max()['price'].sort_values()\n",
    "mn = df[['property_type','price']].groupby('property_type').min()['price'].sort_values()"
   ]
  },
  {
   "cell_type": "code",
   "execution_count": 183,
   "metadata": {
    "scrolled": true
   },
   "outputs": [],
   "source": [
    "out=[]\n",
    "for i in means.index:\n",
    "    out.append([i,cnts.loc[i],means.loc[i] + medians.loc[i]])\n",
    "t = pd.DataFrame(out)"
   ]
  },
  {
   "cell_type": "code",
   "execution_count": 13,
   "metadata": {
    "scrolled": true
   },
   "outputs": [
    {
     "ename": "KeyError",
     "evalue": "'avg'",
     "output_type": "error",
     "traceback": [
      "\u001b[1;31m---------------------------------------------------------------------------\u001b[0m",
      "\u001b[1;31mKeyError\u001b[0m                                  Traceback (most recent call last)",
      "\u001b[1;32m<ipython-input-13-35eca6344b61>\u001b[0m in \u001b[0;36m<module>\u001b[1;34m\u001b[0m\n\u001b[0;32m      1\u001b[0m \u001b[0mtemp_df2\u001b[0m \u001b[1;33m=\u001b[0m \u001b[0mpd\u001b[0m\u001b[1;33m.\u001b[0m\u001b[0mDataFrame\u001b[0m\u001b[1;33m(\u001b[0m\u001b[0mout\u001b[0m\u001b[1;33m)\u001b[0m\u001b[1;33m.\u001b[0m\u001b[0mrename\u001b[0m\u001b[1;33m(\u001b[0m\u001b[0mcolumns\u001b[0m \u001b[1;33m=\u001b[0m \u001b[1;33m{\u001b[0m\u001b[1;36m0\u001b[0m\u001b[1;33m:\u001b[0m\u001b[1;34m'type'\u001b[0m\u001b[1;33m,\u001b[0m\u001b[1;36m1\u001b[0m\u001b[1;33m:\u001b[0m\u001b[1;34m'count'\u001b[0m\u001b[1;33m,\u001b[0m\u001b[1;36m2\u001b[0m\u001b[1;33m:\u001b[0m\u001b[1;34m'avg'\u001b[0m\u001b[1;33m}\u001b[0m\u001b[1;33m)\u001b[0m\u001b[1;33m\u001b[0m\u001b[1;33m\u001b[0m\u001b[0m\n\u001b[1;32m----> 2\u001b[1;33m \u001b[0mtemp_df2\u001b[0m\u001b[1;33m.\u001b[0m\u001b[0msort_values\u001b[0m\u001b[1;33m(\u001b[0m\u001b[1;34m'avg'\u001b[0m\u001b[1;33m)\u001b[0m\u001b[1;33m\u001b[0m\u001b[1;33m\u001b[0m\u001b[0m\n\u001b[0m",
      "\u001b[1;32m~\\anaconda3\\lib\\site-packages\\pandas\\core\\frame.py\u001b[0m in \u001b[0;36msort_values\u001b[1;34m(self, by, axis, ascending, inplace, kind, na_position, ignore_index)\u001b[0m\n\u001b[0;32m   4925\u001b[0m \u001b[1;33m\u001b[0m\u001b[0m\n\u001b[0;32m   4926\u001b[0m             \u001b[0mby\u001b[0m \u001b[1;33m=\u001b[0m \u001b[0mby\u001b[0m\u001b[1;33m[\u001b[0m\u001b[1;36m0\u001b[0m\u001b[1;33m]\u001b[0m\u001b[1;33m\u001b[0m\u001b[1;33m\u001b[0m\u001b[0m\n\u001b[1;32m-> 4927\u001b[1;33m             \u001b[0mk\u001b[0m \u001b[1;33m=\u001b[0m \u001b[0mself\u001b[0m\u001b[1;33m.\u001b[0m\u001b[0m_get_label_or_level_values\u001b[0m\u001b[1;33m(\u001b[0m\u001b[0mby\u001b[0m\u001b[1;33m,\u001b[0m \u001b[0maxis\u001b[0m\u001b[1;33m=\u001b[0m\u001b[0maxis\u001b[0m\u001b[1;33m)\u001b[0m\u001b[1;33m\u001b[0m\u001b[1;33m\u001b[0m\u001b[0m\n\u001b[0m\u001b[0;32m   4928\u001b[0m \u001b[1;33m\u001b[0m\u001b[0m\n\u001b[0;32m   4929\u001b[0m             \u001b[1;32mif\u001b[0m \u001b[0misinstance\u001b[0m\u001b[1;33m(\u001b[0m\u001b[0mascending\u001b[0m\u001b[1;33m,\u001b[0m \u001b[1;33m(\u001b[0m\u001b[0mtuple\u001b[0m\u001b[1;33m,\u001b[0m \u001b[0mlist\u001b[0m\u001b[1;33m)\u001b[0m\u001b[1;33m)\u001b[0m\u001b[1;33m:\u001b[0m\u001b[1;33m\u001b[0m\u001b[1;33m\u001b[0m\u001b[0m\n",
      "\u001b[1;32m~\\anaconda3\\lib\\site-packages\\pandas\\core\\generic.py\u001b[0m in \u001b[0;36m_get_label_or_level_values\u001b[1;34m(self, key, axis)\u001b[0m\n\u001b[0;32m   1690\u001b[0m             \u001b[0mvalues\u001b[0m \u001b[1;33m=\u001b[0m \u001b[0mself\u001b[0m\u001b[1;33m.\u001b[0m\u001b[0maxes\u001b[0m\u001b[1;33m[\u001b[0m\u001b[0maxis\u001b[0m\u001b[1;33m]\u001b[0m\u001b[1;33m.\u001b[0m\u001b[0mget_level_values\u001b[0m\u001b[1;33m(\u001b[0m\u001b[0mkey\u001b[0m\u001b[1;33m)\u001b[0m\u001b[1;33m.\u001b[0m\u001b[0m_values\u001b[0m\u001b[1;33m\u001b[0m\u001b[1;33m\u001b[0m\u001b[0m\n\u001b[0;32m   1691\u001b[0m         \u001b[1;32melse\u001b[0m\u001b[1;33m:\u001b[0m\u001b[1;33m\u001b[0m\u001b[1;33m\u001b[0m\u001b[0m\n\u001b[1;32m-> 1692\u001b[1;33m             \u001b[1;32mraise\u001b[0m \u001b[0mKeyError\u001b[0m\u001b[1;33m(\u001b[0m\u001b[0mkey\u001b[0m\u001b[1;33m)\u001b[0m\u001b[1;33m\u001b[0m\u001b[1;33m\u001b[0m\u001b[0m\n\u001b[0m\u001b[0;32m   1693\u001b[0m \u001b[1;33m\u001b[0m\u001b[0m\n\u001b[0;32m   1694\u001b[0m         \u001b[1;31m# Check for duplicates\u001b[0m\u001b[1;33m\u001b[0m\u001b[1;33m\u001b[0m\u001b[1;33m\u001b[0m\u001b[0m\n",
      "\u001b[1;31mKeyError\u001b[0m: 'avg'"
     ]
    }
   ],
   "source": [
    "temp_df2 = pd.DataFrame(out).rename(columns = {0:'type',1:'count',2:'avg'})\n",
    "temp_df2.sort_values('avg')"
   ]
  },
  {
   "cell_type": "code",
   "execution_count": 14,
   "metadata": {},
   "outputs": [
    {
     "ename": "NameError",
     "evalue": "name 'temp_df1' is not defined",
     "output_type": "error",
     "traceback": [
      "\u001b[1;31m---------------------------------------------------------------------------\u001b[0m",
      "\u001b[1;31mNameError\u001b[0m                                 Traceback (most recent call last)",
      "\u001b[1;32m<ipython-input-14-8195c8ca5a50>\u001b[0m in \u001b[0;36m<module>\u001b[1;34m\u001b[0m\n\u001b[1;32m----> 1\u001b[1;33m \u001b[0mtemp_df1\u001b[0m\u001b[1;33m.\u001b[0m\u001b[0msort_values\u001b[0m\u001b[1;33m(\u001b[0m\u001b[1;34m'avg'\u001b[0m\u001b[1;33m)\u001b[0m\u001b[1;33m\u001b[0m\u001b[1;33m\u001b[0m\u001b[0m\n\u001b[0m",
      "\u001b[1;31mNameError\u001b[0m: name 'temp_df1' is not defined"
     ]
    }
   ],
   "source": [
    "temp_df1.sort_values('avg')"
   ]
  },
  {
   "cell_type": "code",
   "execution_count": 209,
   "metadata": {},
   "outputs": [
    {
     "data": {
      "text/plain": [
       "'{Wifi,\"Air conditioning\",Kitchen,Gym,Breakfast,Elevator,Heating,Washer,Dryer,\"Smoke detector\",\"Carbon monoxide detector\",\"First aid kit\",\"Safety card\",\"Fire extinguisher\",Essentials,Shampoo,Hangers,\"Hair dryer\",Iron,\"Laptop friendly workspace\",\"Self check-in\",\"Building staff\",\"Hot water\",\"Luggage dropoff allowed\"}'"
      ]
     },
     "execution_count": 209,
     "metadata": {},
     "output_type": "execute_result"
    }
   ],
   "source": [
    "df['amenities'][0]"
   ]
  },
  {
   "cell_type": "code",
   "execution_count": 16,
   "metadata": {
    "scrolled": true
   },
   "outputs": [],
   "source": [
    "counts = df.groupby('property_type').size().sort_values()"
   ]
  },
  {
   "cell_type": "code",
   "execution_count": 19,
   "metadata": {},
   "outputs": [
    {
     "data": {
      "text/plain": [
       "298"
      ]
     },
     "execution_count": 19,
     "metadata": {},
     "output_type": "execute_result"
    }
   ],
   "source": [
    "ttl = 0\n",
    "for i in counts.index:\n",
    "    if i in cheap:\n",
    "        ttl += counts.loc[i]\n",
    "ttl"
   ]
  },
  {
   "cell_type": "code",
   "execution_count": 20,
   "metadata": {},
   "outputs": [
    {
     "data": {
      "text/plain": [
       "1145"
      ]
     },
     "execution_count": 20,
     "metadata": {},
     "output_type": "execute_result"
    }
   ],
   "source": [
    "ttl = 0\n",
    "for i in counts.index:\n",
    "    if i in l_middle:\n",
    "        ttl += counts.loc[i]\n",
    "ttl"
   ]
  },
  {
   "cell_type": "code",
   "execution_count": 21,
   "metadata": {},
   "outputs": [
    {
     "data": {
      "text/plain": [
       "27060"
      ]
     },
     "execution_count": 21,
     "metadata": {},
     "output_type": "execute_result"
    }
   ],
   "source": [
    "ttl = 0\n",
    "for i in counts.index:\n",
    "    if i in apart:\n",
    "        ttl += counts.loc[i]\n",
    "ttl"
   ]
  },
  {
   "cell_type": "code",
   "execution_count": 22,
   "metadata": {},
   "outputs": [
    {
     "data": {
      "text/plain": [
       "2021"
      ]
     },
     "execution_count": 22,
     "metadata": {},
     "output_type": "execute_result"
    }
   ],
   "source": [
    "ttl = 0\n",
    "for i in counts.index:\n",
    "    if i in u_middle:\n",
    "        ttl += counts.loc[i]\n",
    "ttl"
   ]
  },
  {
   "cell_type": "code",
   "execution_count": 23,
   "metadata": {},
   "outputs": [
    {
     "data": {
      "text/plain": [
       "543"
      ]
     },
     "execution_count": 23,
     "metadata": {},
     "output_type": "execute_result"
    }
   ],
   "source": [
    "ttl = 0\n",
    "for i in counts.index:\n",
    "    if i in expensive:\n",
    "        ttl += counts.loc[i]\n",
    "ttl"
   ]
  },
  {
   "cell_type": "code",
   "execution_count": 93,
   "metadata": {},
   "outputs": [],
   "source": [
    "counts = df[['zipcode','price']].groupby('zipcode').size().sort_values()"
   ]
  },
  {
   "cell_type": "code",
   "execution_count": 84,
   "metadata": {},
   "outputs": [],
   "source": [
    "means = df[['zipcode','price']].groupby('zipcode').mean()['price'].sort_values()"
   ]
  },
  {
   "cell_type": "code",
   "execution_count": 105,
   "metadata": {
    "scrolled": true
   },
   "outputs": [
    {
     "data": {
      "text/html": [
       "<div>\n",
       "<style scoped>\n",
       "    .dataframe tbody tr th:only-of-type {\n",
       "        vertical-align: middle;\n",
       "    }\n",
       "\n",
       "    .dataframe tbody tr th {\n",
       "        vertical-align: top;\n",
       "    }\n",
       "\n",
       "    .dataframe thead th {\n",
       "        text-align: right;\n",
       "    }\n",
       "</style>\n",
       "<table border=\"1\" class=\"dataframe\">\n",
       "  <thead>\n",
       "    <tr style=\"text-align: right;\">\n",
       "      <th></th>\n",
       "      <th>0</th>\n",
       "      <th>1</th>\n",
       "      <th>2</th>\n",
       "    </tr>\n",
       "  </thead>\n",
       "  <tbody>\n",
       "    <tr>\n",
       "      <th>0</th>\n",
       "      <td>112208</td>\n",
       "      <td>60.000000</td>\n",
       "      <td>1</td>\n",
       "    </tr>\n",
       "    <tr>\n",
       "      <th>1</th>\n",
       "      <td>10472</td>\n",
       "      <td>64.000000</td>\n",
       "      <td>1</td>\n",
       "    </tr>\n",
       "    <tr>\n",
       "      <th>15</th>\n",
       "      <td>11370</td>\n",
       "      <td>65.857143</td>\n",
       "      <td>7</td>\n",
       "    </tr>\n",
       "    <tr>\n",
       "      <th>3</th>\n",
       "      <td>10458.0</td>\n",
       "      <td>70.250000</td>\n",
       "      <td>8</td>\n",
       "    </tr>\n",
       "    <tr>\n",
       "      <th>2</th>\n",
       "      <td>10302.0</td>\n",
       "      <td>80.000000</td>\n",
       "      <td>1</td>\n",
       "    </tr>\n",
       "    <tr>\n",
       "      <th>...</th>\n",
       "      <td>...</td>\n",
       "      <td>...</td>\n",
       "      <td>...</td>\n",
       "    </tr>\n",
       "    <tr>\n",
       "      <th>535</th>\n",
       "      <td>10312</td>\n",
       "      <td>775.000000</td>\n",
       "      <td>2</td>\n",
       "    </tr>\n",
       "    <tr>\n",
       "      <th>536</th>\n",
       "      <td>11461</td>\n",
       "      <td>798.000000</td>\n",
       "      <td>1</td>\n",
       "    </tr>\n",
       "    <tr>\n",
       "      <th>538</th>\n",
       "      <td>10007</td>\n",
       "      <td>840.000000</td>\n",
       "      <td>7</td>\n",
       "    </tr>\n",
       "    <tr>\n",
       "      <th>537</th>\n",
       "      <td>10282.0</td>\n",
       "      <td>1035.000000</td>\n",
       "      <td>2</td>\n",
       "    </tr>\n",
       "    <tr>\n",
       "      <th>539</th>\n",
       "      <td>-- default zip code --</td>\n",
       "      <td>2220.666667</td>\n",
       "      <td>3</td>\n",
       "    </tr>\n",
       "  </tbody>\n",
       "</table>\n",
       "<p>540 rows × 3 columns</p>\n",
       "</div>"
      ],
      "text/plain": [
       "                          0            1  2\n",
       "0                    112208    60.000000  1\n",
       "1                     10472    64.000000  1\n",
       "15                    11370    65.857143  7\n",
       "3                   10458.0    70.250000  8\n",
       "2                   10302.0    80.000000  1\n",
       "..                      ...          ... ..\n",
       "535                   10312   775.000000  2\n",
       "536                   11461   798.000000  1\n",
       "538                   10007   840.000000  7\n",
       "537                 10282.0  1035.000000  2\n",
       "539  -- default zip code --  2220.666667  3\n",
       "\n",
       "[540 rows x 3 columns]"
      ]
     },
     "execution_count": 105,
     "metadata": {},
     "output_type": "execute_result"
    }
   ],
   "source": [
    "medians = df[['zipcode','price']].groupby('zipcode').median()['price'].sort_values()\n",
    "temp = []\n",
    "\n",
    "for i in means.index:\n",
    "    temp.append([i,means.loc[i] + medians.loc[i],counts.loc[i]])\n",
    "temp_df = pd.DataFrame(temp).sort_values(1)\n",
    "temp_df"
   ]
  },
  {
   "cell_type": "code",
   "execution_count": 147,
   "metadata": {},
   "outputs": [
    {
     "data": {
      "text/plain": [
       "11017.666666666666"
      ]
     },
     "execution_count": 147,
     "metadata": {},
     "output_type": "execute_result"
    }
   ],
   "source": [
    "temp = []\n",
    "for i in temp_df.index:\n",
    "    if i in list(set(temp_df[temp_df[1] >= bound1].index) & set(temp_df[temp_df[1] < bound2].index)):\n",
    "        temp.append(True)\n",
    "    else:\n",
    "        temp.append(False)\n",
    "temp_df[2].sum() /3"
   ]
  },
  {
   "cell_type": "code",
   "execution_count": 232,
   "metadata": {},
   "outputs": [
    {
     "name": "stdout",
     "output_type": "stream",
     "text": [
      "9637\n",
      "12246\n",
      "11170\n"
     ]
    }
   ],
   "source": [
    "bound1 = 200\n",
    "bound2 = 300\n",
    "print(temp_df[temp_df[1] < bound1][2].sum())\n",
    "temp = []\n",
    "for i in temp_df.index:\n",
    "    if i in list(set(temp_df[temp_df[1] >= bound1].index) & set(temp_df[temp_df[1] < bound2].index)):\n",
    "        temp.append(True)\n",
    "    else:\n",
    "        temp.append(False)\n",
    "print(temp_df[temp][2].sum())\n",
    "\n",
    "print(temp_df[temp_df[1] >= bound2][2].sum())"
   ]
  },
  {
   "cell_type": "code",
   "execution_count": 233,
   "metadata": {},
   "outputs": [
    {
     "data": {
      "text/html": [
       "<div>\n",
       "<style scoped>\n",
       "    .dataframe tbody tr th:only-of-type {\n",
       "        vertical-align: middle;\n",
       "    }\n",
       "\n",
       "    .dataframe tbody tr th {\n",
       "        vertical-align: top;\n",
       "    }\n",
       "\n",
       "    .dataframe thead th {\n",
       "        text-align: right;\n",
       "    }\n",
       "</style>\n",
       "<table border=\"1\" class=\"dataframe\">\n",
       "  <thead>\n",
       "    <tr style=\"text-align: right;\">\n",
       "      <th></th>\n",
       "      <th>0</th>\n",
       "      <th>1</th>\n",
       "      <th>2</th>\n",
       "    </tr>\n",
       "  </thead>\n",
       "  <tbody>\n",
       "    <tr>\n",
       "      <th>0</th>\n",
       "      <td>long_term</td>\n",
       "      <td>1</td>\n",
       "      <td>190.000000</td>\n",
       "    </tr>\n",
       "    <tr>\n",
       "      <th>1</th>\n",
       "      <td>strict</td>\n",
       "      <td>1</td>\n",
       "      <td>190.000000</td>\n",
       "    </tr>\n",
       "    <tr>\n",
       "      <th>2</th>\n",
       "      <td>flexible</td>\n",
       "      <td>10345</td>\n",
       "      <td>228.715901</td>\n",
       "    </tr>\n",
       "    <tr>\n",
       "      <th>3</th>\n",
       "      <td>moderate</td>\n",
       "      <td>7746</td>\n",
       "      <td>233.929770</td>\n",
       "    </tr>\n",
       "    <tr>\n",
       "      <th>4</th>\n",
       "      <td>strict_14_with_grace_period</td>\n",
       "      <td>15330</td>\n",
       "      <td>279.158513</td>\n",
       "    </tr>\n",
       "    <tr>\n",
       "      <th>5</th>\n",
       "      <td>super_strict_30</td>\n",
       "      <td>34</td>\n",
       "      <td>573.882353</td>\n",
       "    </tr>\n",
       "    <tr>\n",
       "      <th>6</th>\n",
       "      <td>super_strict_60</td>\n",
       "      <td>81</td>\n",
       "      <td>646.345679</td>\n",
       "    </tr>\n",
       "  </tbody>\n",
       "</table>\n",
       "</div>"
      ],
      "text/plain": [
       "                             0      1           2\n",
       "0                    long_term      1  190.000000\n",
       "1                       strict      1  190.000000\n",
       "2                     flexible  10345  228.715901\n",
       "3                     moderate   7746  233.929770\n",
       "4  strict_14_with_grace_period  15330  279.158513\n",
       "5              super_strict_30     34  573.882353\n",
       "6              super_strict_60     81  646.345679"
      ]
     },
     "execution_count": 233,
     "metadata": {},
     "output_type": "execute_result"
    }
   ],
   "source": [
    "ch_zip = temp_df[temp_df[1] < bound1][0].tolist()\n",
    "md_zip = temp_df[temp][0].tolist()\n",
    "ex_zip = temp_df[temp_df[1] >= bound2][0].tolist()\n",
    "t"
   ]
  },
  {
   "cell_type": "code",
   "execution_count": 234,
   "metadata": {
    "scrolled": true
   },
   "outputs": [
    {
     "name": "stdout",
     "output_type": "stream",
     "text": [
      "5\n",
      "2\n",
      "3\n",
      "5\n"
     ]
    }
   ],
   "source": [
    "from math import isnan\n",
    "\n",
    "def to_float(s):\n",
    "    try:\n",
    "        ret = float(s)\n",
    "    except:\n",
    "        ret = -1\n",
    "    if isnan(ret):\n",
    "        ret = -1\n",
    "    return ret\n",
    "\n",
    "def to_int(s):\n",
    "    try:\n",
    "        ret = int(s)\n",
    "    except:\n",
    "        ret = -1\n",
    "    return ret\n",
    "\n",
    "def remove_percent(s):\n",
    "    try:\n",
    "        ret = int(s[:-1])\n",
    "    except:\n",
    "        ret = 0\n",
    "    if isnan(ret):\n",
    "        ret = 0\n",
    "    return ret\n",
    "\n",
    "def remove_dollar(s):\n",
    "    try:\n",
    "        ret = float(s[1:])\n",
    "    except:\n",
    "        ret = 93.46\n",
    "    if isnan(ret):\n",
    "        ret = 93.46\n",
    "    return ret\n",
    "        \n",
    "categories = [x for x in list(set(df['neighbourhood_group_cleansed'])) if type(x) is str]\n",
    "superhosts = [x for x in list(set(df['host_is_superhost'])) if type(x) is str]\n",
    "room_types = [x for x in list(set(df['room_type'])) if type(x) is str]\n",
    "bed_types = [x for x in list(set(df['bed_type'])) if type(x) is str]\n",
    "\n",
    "\n",
    "\n",
    "print(len(categories))\n",
    "print(len(superhosts))\n",
    "print(len(room_types))\n",
    "print(len(bed_types))\n",
    "\n",
    "ch_can = ['long_term','strict','flexible','moderate']\n",
    "ex_can = ['strict_14_with_grace_period','super_strict_30','super_strict_60']\n",
    "\n",
    "expensive = ['Houseboat','Timeshare','Resort','Hotel','Aparthotel','Serviced apartment','Boat']\n",
    "u_middle = ['Condominium','Tent','Boutique hotel','Other','Loft','Chalet']\n",
    "house = ['House']\n",
    "apart = ['Apartment']\n",
    "l_middle = ['Townhouse','Guesthouse','Bungalow','Cottage']\n",
    "cheap = ['Island','Casa particular (Cuba)','Villa','Hostel','Train','Tiny house','Camper/RV','Bed and breakfast','Guest suite','Cabin']"
   ]
  },
  {
   "cell_type": "code",
   "execution_count": 235,
   "metadata": {},
   "outputs": [
    {
     "name": "stdout",
     "output_type": "stream",
     "text": [
      "33538 33538\n"
     ]
    }
   ],
   "source": [
    "def create_feature(row):\n",
    "    guest_num = to_int(row.guests_included)\n",
    "    guest_cap = to_int(row.extra_people)\n",
    "    bedrooms = to_int(row.bedrooms)\n",
    "    bathrooms = to_int(row.bathrooms)\n",
    "    review = to_float(row.review_scores_rating)\n",
    "    \n",
    "    one_hot = [int(row.neighbourhood_group_cleansed == category) for category in categories]\n",
    "    superhost = [int(row.host_is_superhost == typ) for typ in superhosts]\n",
    "    room_typ = [int(row.room_type == typ) for typ in room_types]\n",
    "    bed_typ = [int(row.bed_type == typ) for typ in bed_types]\n",
    "    \n",
    "    host_list_count = to_int(row.host_listings_count)\n",
    "    area = to_int(row.square_feet)\n",
    "    \n",
    "    if row.property_type in expensive:\n",
    "        exp = 1\n",
    "    else:\n",
    "        exp = 0\n",
    "    if row.property_type in u_middle:\n",
    "        u_mid = 1\n",
    "    else:\n",
    "        u_mid = 0\n",
    "    if row.property_type in l_middle:\n",
    "        l_mid = 1\n",
    "    else:\n",
    "        l_mid = 0\n",
    "    if row.property_type in cheap:\n",
    "        ch = 1\n",
    "    else:\n",
    "        ch = 0\n",
    "    if row.property_type in house:\n",
    "        h = 1\n",
    "    else:\n",
    "        h = 0\n",
    "    if row.property_type in apart:\n",
    "        a = 1\n",
    "    else:\n",
    "        a = 0\n",
    "    if row.zipcode in ch_zip:\n",
    "        c_z = 1\n",
    "    else:\n",
    "        c_z = 0\n",
    "    if row.zipcode in md_zip:\n",
    "        m_z = 1\n",
    "    else:\n",
    "        m_z = 0\n",
    "    if row.zipcode in ex_zip:\n",
    "        e_z = 1\n",
    "    else:\n",
    "        e_z = 0\n",
    "    if row.cancellation_policy in ch_can:\n",
    "        c_c = 1\n",
    "    else:\n",
    "        c_c = 0\n",
    "    if row.cancellation_policy in ex_can:\n",
    "        e_c = 1\n",
    "    else:\n",
    "        e_c = 0\n",
    "        \n",
    "    wifi = 'TV' in row.amenities\n",
    "    heating = 'Heating' in row.amenities\n",
    "    work = 'Laptop' in row.amenities\n",
    "    ess = 'Doorman' in row.amenities\n",
    "    \n",
    "    \n",
    "    return [work, wifi,heating,ess,guest_num, guest_cap, bedrooms, bathrooms, review, host_list_count, area,exp,u_mid,l_mid,ch,h,a, c_z,m_z,e_z,c_c,e_c] + one_hot + superhost + room_typ + bed_typ\n",
    "\n",
    "train_X, train_y = [], []\n",
    "for (idx, row) in df.iterrows():\n",
    "    price = float(row.price)\n",
    "    feature = create_feature(row)\n",
    "\n",
    "    train_X.append(feature)\n",
    "    train_y.append(price)\n",
    "test_ids, test_X = [], []\n",
    "for (idx, row) in test_df.iterrows():\n",
    "    feature = create_feature(row)\n",
    "    test_ids.append(row.id)\n",
    "    test_X.append(feature)\n",
    "print(len(train_X), len(train_y))"
   ]
  },
  {
   "cell_type": "code",
   "execution_count": 236,
   "metadata": {},
   "outputs": [
    {
     "name": "stdout",
     "output_type": "stream",
     "text": [
      "72.61402282498327\n"
     ]
    }
   ],
   "source": [
    "rfr = RandomForestRegressor(max_depth = 12)\n",
    "rfr.fit(train_X, train_y)\n",
    "preds= rfr.predict(train_X)\n",
    "rmse = (mean_squared_error(train_y, preds)) ** (1/2)\n",
    "test_y = rfr.predict(test_X)\n",
    "print(rmse)"
   ]
  },
  {
   "cell_type": "code",
   "execution_count": 237,
   "metadata": {},
   "outputs": [],
   "source": [
    "output_df = pd.DataFrame()\n",
    "output_df['Id'] = test_ids\n",
    "output_df['Predicted'] = test_y\n",
    "output_df.to_csv('final.csv', index = False)"
   ]
  },
  {
   "cell_type": "code",
   "execution_count": 224,
   "metadata": {},
   "outputs": [
    {
     "data": {
      "text/plain": [
       "[0.015071484765793956,\n",
       " 0.014072413133940307,\n",
       " 0.013946887043499058,\n",
       " 0.012063279760908591,\n",
       " 0.010305165784609965,\n",
       " 0.042018816810261664,\n",
       " 0.0,\n",
       " 0.09378441474291704,\n",
       " 0.19988893540144195,\n",
       " 0.04508536612331779,\n",
       " 0.048192980868210736,\n",
       " 0.00221371570679253,\n",
       " 0.01904984598444141,\n",
       " 0.012826000933514093,\n",
       " 0.004715181507129038,\n",
       " 0.00023488704295913284,\n",
       " 0.004393141712114053,\n",
       " 0.01119672952912174,\n",
       " 0.016696473264190586,\n",
       " 0.005324341440906323,\n",
       " 0.08930998043109581,\n",
       " 0.007460487719538526,\n",
       " 0.007212248990524836,\n",
       " 0.025978839521506206,\n",
       " 0.0004957805015870655,\n",
       " 0.0009578134839696934,\n",
       " 0.005955712594762409,\n",
       " 0.004005261724869854,\n",
       " 0.005726591321027692,\n",
       " 0.005992209667373312,\n",
       " 0.26493152465549974,\n",
       " 0.002730504442761393,\n",
       " 0.0022429403151207686,\n",
       " 0.0022074801157497517,\n",
       " 9.913151981232845e-05,\n",
       " 0.002363741452812678,\n",
       " 0.0004603953859660948,\n",
       " 0.0007892945999517492]"
      ]
     },
     "execution_count": 224,
     "metadata": {},
     "output_type": "execute_result"
    }
   ],
   "source": [
    "importances = list(rfr.feature_importances_)\n",
    "importances"
   ]
  },
  {
   "cell_type": "code",
   "execution_count": null,
   "metadata": {},
   "outputs": [],
   "source": [
    "dtr = DecisionTreeRegressor(max_depth = 6)\n",
    "dtr.fit(train_X, train_y)\n",
    "preds= dtr.predict(train_X)\n",
    "rmse = (mean_squared_error(train_y, preds)) ** (1/2)\n",
    "test_y = dtr.predict(test_X)\n",
    "print(rmse)"
   ]
  },
  {
   "cell_type": "code",
   "execution_count": 20,
   "metadata": {},
   "outputs": [],
   "source": [
    "rfc = RandomForestClassifier()\n",
    "rfc.fit(train_X, train_y)\n",
    "\n",
    "test_y = rfc.predict(test_X)"
   ]
  },
  {
   "cell_type": "code",
   "execution_count": 23,
   "metadata": {},
   "outputs": [],
   "source": [
    "dtc = DecisionTreeClassifier()\n",
    "dtc.fit(train_X, train_y)\n",
    "test_y = dtc.predict(test_X)"
   ]
  },
  {
   "cell_type": "code",
   "execution_count": 32,
   "metadata": {},
   "outputs": [
    {
     "name": "stdout",
     "output_type": "stream",
     "text": [
      "121.72611206167102\n",
      "113.0499902515135\n",
      "108.76829712524712\n",
      "105.9549937711422\n",
      "103.16368304069739\n",
      "101.4995411274876\n",
      "99.92946428399597\n",
      "98.50130687274773\n",
      "97.32627259792993\n",
      "96.3123650490165\n"
     ]
    }
   ],
   "source": [
    "for i in range(10):\n",
    "    dtr = DecisionTreeRegressor(max_depth = i+1)\n",
    "    dtr.fit(train_X, train_y)\n",
    "    preds= dtr.predict(train_X)\n",
    "    rmse = (mean_squared_error(train_y, preds)) ** (1/2)\n",
    "    test_y = dtr.predict(test_X)\n",
    "    print(rmse)"
   ]
  },
  {
   "cell_type": "code",
   "execution_count": 43,
   "metadata": {},
   "outputs": [
    {
     "name": "stdout",
     "output_type": "stream",
     "text": [
      "101.51179248193526\n"
     ]
    }
   ],
   "source": []
  },
  {
   "cell_type": "code",
   "execution_count": 173,
   "metadata": {},
   "outputs": [
    {
     "data": {
      "text/plain": [
       "LinearRegression()"
      ]
     },
     "execution_count": 173,
     "metadata": {},
     "output_type": "execute_result"
    }
   ],
   "source": [
    "from sklearn import linear_model\n",
    "\n",
    "regr = linear_model.LinearRegression()\n",
    "regr.fit(train_X, train_y)"
   ]
  },
  {
   "cell_type": "code",
   "execution_count": 174,
   "metadata": {},
   "outputs": [
    {
     "name": "stderr",
     "output_type": "stream",
     "text": [
      "C:\\Users\\maxym\\anaconda3\\lib\\site-packages\\IPython\\core\\interactiveshell.py:3071: DtypeWarning: Columns (30) have mixed types.Specify dtype option on import or set low_memory=False.\n",
      "  has_raised = await self.run_ast_nodes(code_ast.body, cell_name,\n"
     ]
    }
   ],
   "source": [
    "import pandas as pd\n",
    "\n",
    "test_df = pd.read_csv('test.csv')"
   ]
  },
  {
   "cell_type": "code",
   "execution_count": 175,
   "metadata": {},
   "outputs": [],
   "source": [
    "test_ids, test_X = [], []\n",
    "for (idx, row) in test_df.iterrows():\n",
    "    feature = create_feature(row)\n",
    "    test_ids.append(row.id)\n",
    "    test_X.append(feature)\n",
    "test_y = regr.predict(test_X)"
   ]
  },
  {
   "cell_type": "code",
   "execution_count": 176,
   "metadata": {},
   "outputs": [
    {
     "name": "stdout",
     "output_type": "stream",
     "text": [
      "17337\n"
     ]
    }
   ],
   "source": [
    "print(len(test_y))"
   ]
  },
  {
   "cell_type": "code",
   "execution_count": 44,
   "metadata": {},
   "outputs": [],
   "source": [
    "output_df = pd.DataFrame()\n",
    "output_df['Id'] = test_ids\n",
    "output_df['Predicted'] = test_y\n",
    "output_df.to_csv('final.csv', index = False)"
   ]
  },
  {
   "cell_type": "code",
   "execution_count": 178,
   "metadata": {
    "scrolled": true
   },
   "outputs": [],
   "source": [
    "import numpy as np\n",
    "\n",
    "mean = np.mean(list(df['price']))"
   ]
  },
  {
   "cell_type": "code",
   "execution_count": 179,
   "metadata": {},
   "outputs": [],
   "source": [
    "output_df = pd.DataFrame()\n",
    "output_df['Id'] = test_ids\n",
    "output_df['Predicted'] = [mean for i in range(len(test_ids))]\n",
    "output_df.to_csv('final.csv', index = False)"
   ]
  },
  {
   "cell_type": "code",
   "execution_count": null,
   "metadata": {},
   "outputs": [],
   "source": []
  },
  {
   "cell_type": "code",
   "execution_count": 3,
   "metadata": {
    "scrolled": false
   },
   "outputs": [
    {
     "name": "stderr",
     "output_type": "stream",
     "text": [
      "C:\\Users\\maxym\\anaconda3\\lib\\site-packages\\IPython\\core\\interactiveshell.py:3071: DtypeWarning: Columns (30) have mixed types.Specify dtype option on import or set low_memory=False.\n",
      "  has_raised = await self.run_ast_nodes(code_ast.body, cell_name,\n"
     ]
    },
    {
     "data": {
      "text/html": [
       "<div>\n",
       "<style scoped>\n",
       "    .dataframe tbody tr th:only-of-type {\n",
       "        vertical-align: middle;\n",
       "    }\n",
       "\n",
       "    .dataframe tbody tr th {\n",
       "        vertical-align: top;\n",
       "    }\n",
       "\n",
       "    .dataframe thead th {\n",
       "        text-align: right;\n",
       "    }\n",
       "</style>\n",
       "<table border=\"1\" class=\"dataframe\">\n",
       "  <thead>\n",
       "    <tr style=\"text-align: right;\">\n",
       "      <th></th>\n",
       "      <th>id</th>\n",
       "      <th>host_id</th>\n",
       "      <th>host_acceptance_rate</th>\n",
       "      <th>host_listings_count</th>\n",
       "      <th>accommodates</th>\n",
       "      <th>bathrooms</th>\n",
       "      <th>bedrooms</th>\n",
       "      <th>beds</th>\n",
       "      <th>square_feet</th>\n",
       "      <th>price</th>\n",
       "      <th>...</th>\n",
       "      <th>number_of_reviews</th>\n",
       "      <th>review_scores_rating</th>\n",
       "      <th>review_scores_accuracy</th>\n",
       "      <th>review_scores_cleanliness</th>\n",
       "      <th>review_scores_checkin</th>\n",
       "      <th>review_scores_communication</th>\n",
       "      <th>review_scores_location</th>\n",
       "      <th>review_scores_value</th>\n",
       "      <th>calculated_host_listings_count</th>\n",
       "      <th>reviews_per_month</th>\n",
       "    </tr>\n",
       "  </thead>\n",
       "  <tbody>\n",
       "    <tr>\n",
       "      <th>count</th>\n",
       "      <td>3.353800e+04</td>\n",
       "      <td>3.353800e+04</td>\n",
       "      <td>0.0</td>\n",
       "      <td>33533.000000</td>\n",
       "      <td>33538.000000</td>\n",
       "      <td>33478.000000</td>\n",
       "      <td>33505.000000</td>\n",
       "      <td>33507.000000</td>\n",
       "      <td>341.000000</td>\n",
       "      <td>33538.000000</td>\n",
       "      <td>...</td>\n",
       "      <td>33538.000000</td>\n",
       "      <td>25874.000000</td>\n",
       "      <td>25844.000000</td>\n",
       "      <td>25859.000000</td>\n",
       "      <td>25829.000000</td>\n",
       "      <td>25849.000000</td>\n",
       "      <td>25830.000000</td>\n",
       "      <td>25827.000000</td>\n",
       "      <td>33538.000000</td>\n",
       "      <td>26591.000000</td>\n",
       "    </tr>\n",
       "    <tr>\n",
       "      <th>mean</th>\n",
       "      <td>1.566316e+07</td>\n",
       "      <td>5.420691e+07</td>\n",
       "      <td>NaN</td>\n",
       "      <td>10.006799</td>\n",
       "      <td>2.856789</td>\n",
       "      <td>1.141376</td>\n",
       "      <td>1.176869</td>\n",
       "      <td>1.571313</td>\n",
       "      <td>738.958944</td>\n",
       "      <td>145.177291</td>\n",
       "      <td>...</td>\n",
       "      <td>21.635548</td>\n",
       "      <td>93.751488</td>\n",
       "      <td>9.599443</td>\n",
       "      <td>9.255153</td>\n",
       "      <td>9.737466</td>\n",
       "      <td>9.754304</td>\n",
       "      <td>9.500542</td>\n",
       "      <td>9.374647</td>\n",
       "      <td>3.956288</td>\n",
       "      <td>1.429904</td>\n",
       "    </tr>\n",
       "    <tr>\n",
       "      <th>std</th>\n",
       "      <td>8.788870e+06</td>\n",
       "      <td>6.149736e+07</td>\n",
       "      <td>NaN</td>\n",
       "      <td>85.869452</td>\n",
       "      <td>1.848491</td>\n",
       "      <td>0.425003</td>\n",
       "      <td>0.744365</td>\n",
       "      <td>1.054226</td>\n",
       "      <td>580.780447</td>\n",
       "      <td>133.085709</td>\n",
       "      <td>...</td>\n",
       "      <td>40.488277</td>\n",
       "      <td>8.315867</td>\n",
       "      <td>0.819684</td>\n",
       "      <td>1.073818</td>\n",
       "      <td>0.706306</td>\n",
       "      <td>0.688775</td>\n",
       "      <td>0.781516</td>\n",
       "      <td>0.888392</td>\n",
       "      <td>12.687366</td>\n",
       "      <td>1.672336</td>\n",
       "    </tr>\n",
       "    <tr>\n",
       "      <th>min</th>\n",
       "      <td>2.515000e+03</td>\n",
       "      <td>2.830000e+02</td>\n",
       "      <td>NaN</td>\n",
       "      <td>0.000000</td>\n",
       "      <td>1.000000</td>\n",
       "      <td>0.000000</td>\n",
       "      <td>0.000000</td>\n",
       "      <td>0.000000</td>\n",
       "      <td>0.000000</td>\n",
       "      <td>0.000000</td>\n",
       "      <td>...</td>\n",
       "      <td>0.000000</td>\n",
       "      <td>20.000000</td>\n",
       "      <td>2.000000</td>\n",
       "      <td>2.000000</td>\n",
       "      <td>2.000000</td>\n",
       "      <td>2.000000</td>\n",
       "      <td>2.000000</td>\n",
       "      <td>2.000000</td>\n",
       "      <td>1.000000</td>\n",
       "      <td>0.010000</td>\n",
       "    </tr>\n",
       "    <tr>\n",
       "      <th>25%</th>\n",
       "      <td>8.173466e+06</td>\n",
       "      <td>7.130984e+06</td>\n",
       "      <td>NaN</td>\n",
       "      <td>1.000000</td>\n",
       "      <td>2.000000</td>\n",
       "      <td>1.000000</td>\n",
       "      <td>1.000000</td>\n",
       "      <td>1.000000</td>\n",
       "      <td>400.000000</td>\n",
       "      <td>69.000000</td>\n",
       "      <td>...</td>\n",
       "      <td>1.000000</td>\n",
       "      <td>91.000000</td>\n",
       "      <td>9.000000</td>\n",
       "      <td>9.000000</td>\n",
       "      <td>10.000000</td>\n",
       "      <td>10.000000</td>\n",
       "      <td>9.000000</td>\n",
       "      <td>9.000000</td>\n",
       "      <td>1.000000</td>\n",
       "      <td>0.210000</td>\n",
       "    </tr>\n",
       "    <tr>\n",
       "      <th>50%</th>\n",
       "      <td>1.633786e+07</td>\n",
       "      <td>2.662292e+07</td>\n",
       "      <td>NaN</td>\n",
       "      <td>1.000000</td>\n",
       "      <td>2.000000</td>\n",
       "      <td>1.000000</td>\n",
       "      <td>1.000000</td>\n",
       "      <td>1.000000</td>\n",
       "      <td>700.000000</td>\n",
       "      <td>109.000000</td>\n",
       "      <td>...</td>\n",
       "      <td>5.000000</td>\n",
       "      <td>96.000000</td>\n",
       "      <td>10.000000</td>\n",
       "      <td>10.000000</td>\n",
       "      <td>10.000000</td>\n",
       "      <td>10.000000</td>\n",
       "      <td>10.000000</td>\n",
       "      <td>10.000000</td>\n",
       "      <td>1.000000</td>\n",
       "      <td>0.770000</td>\n",
       "    </tr>\n",
       "    <tr>\n",
       "      <th>75%</th>\n",
       "      <td>2.276632e+07</td>\n",
       "      <td>8.248502e+07</td>\n",
       "      <td>NaN</td>\n",
       "      <td>2.000000</td>\n",
       "      <td>4.000000</td>\n",
       "      <td>1.000000</td>\n",
       "      <td>1.000000</td>\n",
       "      <td>2.000000</td>\n",
       "      <td>1000.000000</td>\n",
       "      <td>175.000000</td>\n",
       "      <td>...</td>\n",
       "      <td>23.000000</td>\n",
       "      <td>100.000000</td>\n",
       "      <td>10.000000</td>\n",
       "      <td>10.000000</td>\n",
       "      <td>10.000000</td>\n",
       "      <td>10.000000</td>\n",
       "      <td>10.000000</td>\n",
       "      <td>10.000000</td>\n",
       "      <td>2.000000</td>\n",
       "      <td>2.140000</td>\n",
       "    </tr>\n",
       "    <tr>\n",
       "      <th>max</th>\n",
       "      <td>2.977318e+07</td>\n",
       "      <td>2.240015e+08</td>\n",
       "      <td>NaN</td>\n",
       "      <td>2271.000000</td>\n",
       "      <td>16.000000</td>\n",
       "      <td>16.500000</td>\n",
       "      <td>10.000000</td>\n",
       "      <td>18.000000</td>\n",
       "      <td>5000.000000</td>\n",
       "      <td>1999.000000</td>\n",
       "      <td>...</td>\n",
       "      <td>557.000000</td>\n",
       "      <td>100.000000</td>\n",
       "      <td>10.000000</td>\n",
       "      <td>10.000000</td>\n",
       "      <td>10.000000</td>\n",
       "      <td>10.000000</td>\n",
       "      <td>10.000000</td>\n",
       "      <td>10.000000</td>\n",
       "      <td>132.000000</td>\n",
       "      <td>19.890000</td>\n",
       "    </tr>\n",
       "  </tbody>\n",
       "</table>\n",
       "<p>8 rows × 23 columns</p>\n",
       "</div>"
      ],
      "text/plain": [
       "                 id       host_id  host_acceptance_rate  host_listings_count  \\\n",
       "count  3.353800e+04  3.353800e+04                   0.0         33533.000000   \n",
       "mean   1.566316e+07  5.420691e+07                   NaN            10.006799   \n",
       "std    8.788870e+06  6.149736e+07                   NaN            85.869452   \n",
       "min    2.515000e+03  2.830000e+02                   NaN             0.000000   \n",
       "25%    8.173466e+06  7.130984e+06                   NaN             1.000000   \n",
       "50%    1.633786e+07  2.662292e+07                   NaN             1.000000   \n",
       "75%    2.276632e+07  8.248502e+07                   NaN             2.000000   \n",
       "max    2.977318e+07  2.240015e+08                   NaN          2271.000000   \n",
       "\n",
       "       accommodates     bathrooms      bedrooms          beds  square_feet  \\\n",
       "count  33538.000000  33478.000000  33505.000000  33507.000000   341.000000   \n",
       "mean       2.856789      1.141376      1.176869      1.571313   738.958944   \n",
       "std        1.848491      0.425003      0.744365      1.054226   580.780447   \n",
       "min        1.000000      0.000000      0.000000      0.000000     0.000000   \n",
       "25%        2.000000      1.000000      1.000000      1.000000   400.000000   \n",
       "50%        2.000000      1.000000      1.000000      1.000000   700.000000   \n",
       "75%        4.000000      1.000000      1.000000      2.000000  1000.000000   \n",
       "max       16.000000     16.500000     10.000000     18.000000  5000.000000   \n",
       "\n",
       "              price  ...  number_of_reviews  review_scores_rating  \\\n",
       "count  33538.000000  ...       33538.000000          25874.000000   \n",
       "mean     145.177291  ...          21.635548             93.751488   \n",
       "std      133.085709  ...          40.488277              8.315867   \n",
       "min        0.000000  ...           0.000000             20.000000   \n",
       "25%       69.000000  ...           1.000000             91.000000   \n",
       "50%      109.000000  ...           5.000000             96.000000   \n",
       "75%      175.000000  ...          23.000000            100.000000   \n",
       "max     1999.000000  ...         557.000000            100.000000   \n",
       "\n",
       "       review_scores_accuracy  review_scores_cleanliness  \\\n",
       "count            25844.000000               25859.000000   \n",
       "mean                 9.599443                   9.255153   \n",
       "std                  0.819684                   1.073818   \n",
       "min                  2.000000                   2.000000   \n",
       "25%                  9.000000                   9.000000   \n",
       "50%                 10.000000                  10.000000   \n",
       "75%                 10.000000                  10.000000   \n",
       "max                 10.000000                  10.000000   \n",
       "\n",
       "       review_scores_checkin  review_scores_communication  \\\n",
       "count           25829.000000                 25849.000000   \n",
       "mean                9.737466                     9.754304   \n",
       "std                 0.706306                     0.688775   \n",
       "min                 2.000000                     2.000000   \n",
       "25%                10.000000                    10.000000   \n",
       "50%                10.000000                    10.000000   \n",
       "75%                10.000000                    10.000000   \n",
       "max                10.000000                    10.000000   \n",
       "\n",
       "       review_scores_location  review_scores_value  \\\n",
       "count            25830.000000         25827.000000   \n",
       "mean                 9.500542             9.374647   \n",
       "std                  0.781516             0.888392   \n",
       "min                  2.000000             2.000000   \n",
       "25%                  9.000000             9.000000   \n",
       "50%                 10.000000            10.000000   \n",
       "75%                 10.000000            10.000000   \n",
       "max                 10.000000            10.000000   \n",
       "\n",
       "       calculated_host_listings_count  reviews_per_month  \n",
       "count                    33538.000000       26591.000000  \n",
       "mean                         3.956288           1.429904  \n",
       "std                         12.687366           1.672336  \n",
       "min                          1.000000           0.010000  \n",
       "25%                          1.000000           0.210000  \n",
       "50%                          1.000000           0.770000  \n",
       "75%                          2.000000           2.140000  \n",
       "max                        132.000000          19.890000  \n",
       "\n",
       "[8 rows x 23 columns]"
      ]
     },
     "execution_count": 3,
     "metadata": {},
     "output_type": "execute_result"
    }
   ],
   "source": [
    "#Read in the training data frame\n",
    "train_df = pd.read_csv('train.csv')\n",
    "train_data = train_df.copy()\n",
    "train_data.describe()"
   ]
  },
  {
   "cell_type": "code",
   "execution_count": 40,
   "metadata": {},
   "outputs": [
    {
     "name": "stderr",
     "output_type": "stream",
     "text": [
      "C:\\Users\\maxym\\anaconda3\\lib\\site-packages\\IPython\\core\\interactiveshell.py:3071: DtypeWarning: Columns (30) have mixed types.Specify dtype option on import or set low_memory=False.\n",
      "  has_raised = await self.run_ast_nodes(code_ast.body, cell_name,\n"
     ]
    },
    {
     "data": {
      "text/html": [
       "<div>\n",
       "<style scoped>\n",
       "    .dataframe tbody tr th:only-of-type {\n",
       "        vertical-align: middle;\n",
       "    }\n",
       "\n",
       "    .dataframe tbody tr th {\n",
       "        vertical-align: top;\n",
       "    }\n",
       "\n",
       "    .dataframe thead th {\n",
       "        text-align: right;\n",
       "    }\n",
       "</style>\n",
       "<table border=\"1\" class=\"dataframe\">\n",
       "  <thead>\n",
       "    <tr style=\"text-align: right;\">\n",
       "      <th></th>\n",
       "      <th>id</th>\n",
       "      <th>host_id</th>\n",
       "      <th>host_since</th>\n",
       "      <th>host_response_rate</th>\n",
       "      <th>host_acceptance_rate</th>\n",
       "      <th>host_listings_count</th>\n",
       "      <th>accommodates</th>\n",
       "      <th>bathrooms</th>\n",
       "      <th>bedrooms</th>\n",
       "      <th>beds</th>\n",
       "      <th>...</th>\n",
       "      <th>last_review</th>\n",
       "      <th>review_scores_rating</th>\n",
       "      <th>review_scores_accuracy</th>\n",
       "      <th>review_scores_cleanliness</th>\n",
       "      <th>review_scores_checkin</th>\n",
       "      <th>review_scores_communication</th>\n",
       "      <th>review_scores_location</th>\n",
       "      <th>review_scores_value</th>\n",
       "      <th>calculated_host_listings_count</th>\n",
       "      <th>reviews_per_month</th>\n",
       "    </tr>\n",
       "  </thead>\n",
       "  <tbody>\n",
       "    <tr>\n",
       "      <th>count</th>\n",
       "      <td>1.733700e+04</td>\n",
       "      <td>1.733700e+04</td>\n",
       "      <td>17334.000000</td>\n",
       "      <td>9075.000000</td>\n",
       "      <td>0.0</td>\n",
       "      <td>17334.000000</td>\n",
       "      <td>17337.000000</td>\n",
       "      <td>17301.000000</td>\n",
       "      <td>17314.000000</td>\n",
       "      <td>17309.000000</td>\n",
       "      <td>...</td>\n",
       "      <td>13705.000000</td>\n",
       "      <td>13335.000000</td>\n",
       "      <td>13316.000000</td>\n",
       "      <td>13322.000000</td>\n",
       "      <td>13304.000000</td>\n",
       "      <td>13317.000000</td>\n",
       "      <td>13296.000000</td>\n",
       "      <td>13300.000000</td>\n",
       "      <td>17337.000000</td>\n",
       "      <td>13705.000000</td>\n",
       "    </tr>\n",
       "    <tr>\n",
       "      <th>mean</th>\n",
       "      <td>1.571426e+07</td>\n",
       "      <td>5.391224e+07</td>\n",
       "      <td>42002.375909</td>\n",
       "      <td>0.925221</td>\n",
       "      <td>NaN</td>\n",
       "      <td>10.359409</td>\n",
       "      <td>2.847205</td>\n",
       "      <td>1.139905</td>\n",
       "      <td>1.171133</td>\n",
       "      <td>1.571321</td>\n",
       "      <td>...</td>\n",
       "      <td>43180.850493</td>\n",
       "      <td>93.543982</td>\n",
       "      <td>9.577200</td>\n",
       "      <td>9.234349</td>\n",
       "      <td>9.723467</td>\n",
       "      <td>9.735751</td>\n",
       "      <td>9.491877</td>\n",
       "      <td>9.364887</td>\n",
       "      <td>4.010786</td>\n",
       "      <td>1.436363</td>\n",
       "    </tr>\n",
       "    <tr>\n",
       "      <th>std</th>\n",
       "      <td>8.747646e+06</td>\n",
       "      <td>6.117754e+07</td>\n",
       "      <td>769.380843</td>\n",
       "      <td>0.174029</td>\n",
       "      <td>NaN</td>\n",
       "      <td>86.019163</td>\n",
       "      <td>1.875483</td>\n",
       "      <td>0.433470</td>\n",
       "      <td>0.753817</td>\n",
       "      <td>1.116591</td>\n",
       "      <td>...</td>\n",
       "      <td>345.101335</td>\n",
       "      <td>8.877514</td>\n",
       "      <td>0.878313</td>\n",
       "      <td>1.112080</td>\n",
       "      <td>0.751637</td>\n",
       "      <td>0.745524</td>\n",
       "      <td>0.811497</td>\n",
       "      <td>0.923016</td>\n",
       "      <td>12.842500</td>\n",
       "      <td>1.692567</td>\n",
       "    </tr>\n",
       "    <tr>\n",
       "      <th>min</th>\n",
       "      <td>2.539000e+03</td>\n",
       "      <td>2.758000e+03</td>\n",
       "      <td>39697.000000</td>\n",
       "      <td>0.000000</td>\n",
       "      <td>NaN</td>\n",
       "      <td>0.000000</td>\n",
       "      <td>1.000000</td>\n",
       "      <td>0.000000</td>\n",
       "      <td>0.000000</td>\n",
       "      <td>0.000000</td>\n",
       "      <td>...</td>\n",
       "      <td>40804.000000</td>\n",
       "      <td>20.000000</td>\n",
       "      <td>2.000000</td>\n",
       "      <td>2.000000</td>\n",
       "      <td>2.000000</td>\n",
       "      <td>2.000000</td>\n",
       "      <td>2.000000</td>\n",
       "      <td>2.000000</td>\n",
       "      <td>1.000000</td>\n",
       "      <td>0.010000</td>\n",
       "    </tr>\n",
       "    <tr>\n",
       "      <th>25%</th>\n",
       "      <td>8.173609e+06</td>\n",
       "      <td>6.963310e+06</td>\n",
       "      <td>41445.000000</td>\n",
       "      <td>0.930000</td>\n",
       "      <td>NaN</td>\n",
       "      <td>1.000000</td>\n",
       "      <td>2.000000</td>\n",
       "      <td>1.000000</td>\n",
       "      <td>1.000000</td>\n",
       "      <td>1.000000</td>\n",
       "      <td>...</td>\n",
       "      <td>43101.000000</td>\n",
       "      <td>91.000000</td>\n",
       "      <td>9.000000</td>\n",
       "      <td>9.000000</td>\n",
       "      <td>10.000000</td>\n",
       "      <td>10.000000</td>\n",
       "      <td>9.000000</td>\n",
       "      <td>9.000000</td>\n",
       "      <td>1.000000</td>\n",
       "      <td>0.210000</td>\n",
       "    </tr>\n",
       "    <tr>\n",
       "      <th>50%</th>\n",
       "      <td>1.639458e+07</td>\n",
       "      <td>2.650228e+07</td>\n",
       "      <td>42033.000000</td>\n",
       "      <td>1.000000</td>\n",
       "      <td>NaN</td>\n",
       "      <td>1.000000</td>\n",
       "      <td>2.000000</td>\n",
       "      <td>1.000000</td>\n",
       "      <td>1.000000</td>\n",
       "      <td>1.000000</td>\n",
       "      <td>...</td>\n",
       "      <td>43365.000000</td>\n",
       "      <td>96.000000</td>\n",
       "      <td>10.000000</td>\n",
       "      <td>10.000000</td>\n",
       "      <td>10.000000</td>\n",
       "      <td>10.000000</td>\n",
       "      <td>10.000000</td>\n",
       "      <td>10.000000</td>\n",
       "      <td>1.000000</td>\n",
       "      <td>0.770000</td>\n",
       "    </tr>\n",
       "    <tr>\n",
       "      <th>75%</th>\n",
       "      <td>2.290024e+07</td>\n",
       "      <td>8.173310e+07</td>\n",
       "      <td>42557.000000</td>\n",
       "      <td>1.000000</td>\n",
       "      <td>NaN</td>\n",
       "      <td>2.000000</td>\n",
       "      <td>4.000000</td>\n",
       "      <td>1.000000</td>\n",
       "      <td>1.000000</td>\n",
       "      <td>2.000000</td>\n",
       "      <td>...</td>\n",
       "      <td>43393.000000</td>\n",
       "      <td>100.000000</td>\n",
       "      <td>10.000000</td>\n",
       "      <td>10.000000</td>\n",
       "      <td>10.000000</td>\n",
       "      <td>10.000000</td>\n",
       "      <td>10.000000</td>\n",
       "      <td>10.000000</td>\n",
       "      <td>2.000000</td>\n",
       "      <td>2.150000</td>\n",
       "    </tr>\n",
       "    <tr>\n",
       "      <th>max</th>\n",
       "      <td>2.976322e+07</td>\n",
       "      <td>2.238899e+08</td>\n",
       "      <td>43406.000000</td>\n",
       "      <td>1.000000</td>\n",
       "      <td>NaN</td>\n",
       "      <td>2271.000000</td>\n",
       "      <td>16.000000</td>\n",
       "      <td>15.500000</td>\n",
       "      <td>14.000000</td>\n",
       "      <td>40.000000</td>\n",
       "      <td>...</td>\n",
       "      <td>43407.000000</td>\n",
       "      <td>100.000000</td>\n",
       "      <td>10.000000</td>\n",
       "      <td>10.000000</td>\n",
       "      <td>10.000000</td>\n",
       "      <td>10.000000</td>\n",
       "      <td>10.000000</td>\n",
       "      <td>10.000000</td>\n",
       "      <td>132.000000</td>\n",
       "      <td>17.500000</td>\n",
       "    </tr>\n",
       "  </tbody>\n",
       "</table>\n",
       "<p>8 rows × 27 columns</p>\n",
       "</div>"
      ],
      "text/plain": [
       "                 id       host_id    host_since  host_response_rate  \\\n",
       "count  1.733700e+04  1.733700e+04  17334.000000         9075.000000   \n",
       "mean   1.571426e+07  5.391224e+07  42002.375909            0.925221   \n",
       "std    8.747646e+06  6.117754e+07    769.380843            0.174029   \n",
       "min    2.539000e+03  2.758000e+03  39697.000000            0.000000   \n",
       "25%    8.173609e+06  6.963310e+06  41445.000000            0.930000   \n",
       "50%    1.639458e+07  2.650228e+07  42033.000000            1.000000   \n",
       "75%    2.290024e+07  8.173310e+07  42557.000000            1.000000   \n",
       "max    2.976322e+07  2.238899e+08  43406.000000            1.000000   \n",
       "\n",
       "       host_acceptance_rate  host_listings_count  accommodates     bathrooms  \\\n",
       "count                   0.0         17334.000000  17337.000000  17301.000000   \n",
       "mean                    NaN            10.359409      2.847205      1.139905   \n",
       "std                     NaN            86.019163      1.875483      0.433470   \n",
       "min                     NaN             0.000000      1.000000      0.000000   \n",
       "25%                     NaN             1.000000      2.000000      1.000000   \n",
       "50%                     NaN             1.000000      2.000000      1.000000   \n",
       "75%                     NaN             2.000000      4.000000      1.000000   \n",
       "max                     NaN          2271.000000     16.000000     15.500000   \n",
       "\n",
       "           bedrooms          beds  ...   last_review  review_scores_rating  \\\n",
       "count  17314.000000  17309.000000  ...  13705.000000          13335.000000   \n",
       "mean       1.171133      1.571321  ...  43180.850493             93.543982   \n",
       "std        0.753817      1.116591  ...    345.101335              8.877514   \n",
       "min        0.000000      0.000000  ...  40804.000000             20.000000   \n",
       "25%        1.000000      1.000000  ...  43101.000000             91.000000   \n",
       "50%        1.000000      1.000000  ...  43365.000000             96.000000   \n",
       "75%        1.000000      2.000000  ...  43393.000000            100.000000   \n",
       "max       14.000000     40.000000  ...  43407.000000            100.000000   \n",
       "\n",
       "       review_scores_accuracy  review_scores_cleanliness  \\\n",
       "count            13316.000000               13322.000000   \n",
       "mean                 9.577200                   9.234349   \n",
       "std                  0.878313                   1.112080   \n",
       "min                  2.000000                   2.000000   \n",
       "25%                  9.000000                   9.000000   \n",
       "50%                 10.000000                  10.000000   \n",
       "75%                 10.000000                  10.000000   \n",
       "max                 10.000000                  10.000000   \n",
       "\n",
       "       review_scores_checkin  review_scores_communication  \\\n",
       "count           13304.000000                 13317.000000   \n",
       "mean                9.723467                     9.735751   \n",
       "std                 0.751637                     0.745524   \n",
       "min                 2.000000                     2.000000   \n",
       "25%                10.000000                    10.000000   \n",
       "50%                10.000000                    10.000000   \n",
       "75%                10.000000                    10.000000   \n",
       "max                10.000000                    10.000000   \n",
       "\n",
       "       review_scores_location  review_scores_value  \\\n",
       "count            13296.000000         13300.000000   \n",
       "mean                 9.491877             9.364887   \n",
       "std                  0.811497             0.923016   \n",
       "min                  2.000000             2.000000   \n",
       "25%                  9.000000             9.000000   \n",
       "50%                 10.000000            10.000000   \n",
       "75%                 10.000000            10.000000   \n",
       "max                 10.000000            10.000000   \n",
       "\n",
       "       calculated_host_listings_count  reviews_per_month  \n",
       "count                    17337.000000       13705.000000  \n",
       "mean                         4.010786           1.436363  \n",
       "std                         12.842500           1.692567  \n",
       "min                          1.000000           0.010000  \n",
       "25%                          1.000000           0.210000  \n",
       "50%                          1.000000           0.770000  \n",
       "75%                          2.000000           2.150000  \n",
       "max                        132.000000          17.500000  \n",
       "\n",
       "[8 rows x 27 columns]"
      ]
     },
     "execution_count": 40,
     "metadata": {},
     "output_type": "execute_result"
    }
   ],
   "source": [
    "#Read in the training data frame\n",
    "test_df = pd.read_csv('test.csv')\n",
    "test_data = test_df.copy()\n",
    "test_data.describe()"
   ]
  },
  {
   "cell_type": "code",
   "execution_count": 35,
   "metadata": {},
   "outputs": [
    {
     "name": "stdout",
     "output_type": "stream",
     "text": [
      "id22267382\n",
      "\n",
      "nameModern and Cozy Large Studio in Brooklyn\n",
      "\n",
      "summaryModern large studio with new amenities and appliances on the 40th floor in Brooklyn, 10 - 15 min from Manhattan by subway, all major subways close by, Fort Greene Park, BAM, Barclay Center, great restaurants. Washer/Dryer available in the unit. Gym available in the building at no additional cost\n",
      "\n",
      "spaceOur place is a little quiet sanctuary in the heart of Fort Greene. Amazing views from the apartment and common area on the 41st floor. Looking for respectful guests, singles/couples, who'll treat this home as theirs. *The studio available is almost identical to the one in pics, but slightly smaller. The rest of the information is the same.That's why we are offering an additional discount.\n",
      "\n",
      "descriptionModern large studio with new amenities and appliances on the 40th floor in Brooklyn, 10 - 15 min from Manhattan by subway, all major subways close by, Fort Greene Park, BAM, Barclay Center, great restaurants. Washer/Dryer available in the unit. Gym available in the building at no additional cost Our place is a little quiet sanctuary in the heart of Fort Greene. Amazing views from the apartment and common area on the 41st floor. Looking for respectful guests, singles/couples, who'll treat this home as theirs. *The studio available is almost identical to the one in pics, but slightly smaller. The rest of the information is the same.That's why we are offering an additional discount. Washer/Dryer Dishwasher Internet Gym Roof Top Access Reception Area Coffee/Tea/Light Breakfast at the common area Depending on the time of your visit, I'll be here to greet you or will leave the keys/instructions with the concierge BAM, Barclays, Brooklyn City Point, Fort Greene Park, Prospect Park, amazing re\n",
      "\n",
      "experiences_offerednone\n",
      "\n",
      "neighborhood_overviewBAM, Barclays, Brooklyn City Point, Fort Greene Park, Prospect Park, amazing restaurants, home of Spike Lee’s film studio, 1 subway stop away from Manhattan\n",
      "\n",
      "notesnan\n",
      "\n",
      "transitSubway: 2,3,4,5,A,C,B,Q,G\n",
      "\n",
      "accessWasher/Dryer Dishwasher Internet Gym Roof Top Access Reception Area Coffee/Tea/Light Breakfast at the common area\n",
      "\n",
      "interactionDepending on the time of your visit, I'll be here to greet you or will leave the keys/instructions with the concierge\n",
      "\n",
      "house_rules- Please be respectful of our neighbors, no loud music after 10p\n",
      "\n",
      "host_id1910170\n",
      "\n",
      "host_nameKatarina\n",
      "\n",
      "host_since2012-03-12\n",
      "\n",
      "host_locationLos Angeles, California, United States\n",
      "\n",
      "host_aboutTraveler, Artist, Philanthropist\n",
      "\n",
      "host_response_timenan\n",
      "\n",
      "host_response_ratenan\n",
      "\n",
      "host_acceptance_ratenan\n",
      "\n",
      "host_is_superhostf\n",
      "\n",
      "host_neighbourhoodFort Greene\n",
      "\n",
      "host_listings_count1.0\n",
      "\n",
      "host_verifications['email', 'phone', 'reviews', 'jumio', 'government_id']\n",
      "\n",
      "host_has_profile_pict\n",
      "\n",
      "host_identity_verifiedt\n",
      "\n",
      "neighbourhood_cleansedFort Greene\n",
      "\n",
      "neighbourhood_group_cleansedBrooklyn\n",
      "\n",
      "cityBrooklyn\n",
      "\n",
      "stateNY\n",
      "\n",
      "zipcode11217.0\n",
      "\n",
      "marketNew York\n",
      "\n",
      "country_codeUS\n",
      "\n",
      "countryUnited States\n",
      "\n",
      "property_typeLoft\n",
      "\n",
      "room_typeEntire home/apt\n",
      "\n",
      "accommodates2\n",
      "\n",
      "bathrooms1.0\n",
      "\n",
      "bedrooms1.0\n",
      "\n",
      "beds1.0\n",
      "\n",
      "bed_typeReal Bed\n",
      "\n",
      "amenities{Wifi,\"Air conditioning\",Kitchen,Gym,Breakfast,Elevator,Heating,Washer,Dryer,\"Smoke detector\",\"Carbon monoxide detector\",\"First aid kit\",\"Safety card\",\"Fire extinguisher\",Essentials,Shampoo,Hangers,\"Hair dryer\",Iron,\"Laptop friendly workspace\",\"Self check-in\",\"Building staff\",\"Hot water\",\"Luggage dropoff allowed\"}\n",
      "\n",
      "square_feetnan\n",
      "\n",
      "price145.0\n",
      "\n",
      "guests_included2\n",
      "\n",
      "extra_people$30.00\n",
      "\n",
      "minimum_nights7\n",
      "\n",
      "maximum_nights12\n",
      "\n",
      "number_of_reviews6\n",
      "\n",
      "first_review2018-01-01\n",
      "\n",
      "last_review2018-07-03\n",
      "\n",
      "review_scores_rating100.0\n",
      "\n",
      "review_scores_accuracy10.0\n",
      "\n",
      "review_scores_cleanliness10.0\n",
      "\n",
      "review_scores_checkin10.0\n",
      "\n",
      "review_scores_communication10.0\n",
      "\n",
      "review_scores_location10.0\n",
      "\n",
      "review_scores_value10.0\n",
      "\n",
      "instant_bookablet\n",
      "\n",
      "is_business_travel_readyf\n",
      "\n",
      "cancellation_policyflexible\n",
      "\n",
      "require_guest_profile_picturef\n",
      "\n",
      "require_guest_phone_verificationf\n",
      "\n",
      "calculated_host_listings_count1\n",
      "\n",
      "reviews_per_month0.59\n",
      "\n"
     ]
    }
   ],
   "source": [
    "for i in train_data.columns:\n",
    "    print(i + str(train_data[i][0]))\n",
    "    print('')"
   ]
  },
  {
   "cell_type": "code",
   "execution_count": 169,
   "metadata": {},
   "outputs": [
    {
     "name": "stderr",
     "output_type": "stream",
     "text": [
      "<ipython-input-169-8f448ca3ca65>:40: SettingWithCopyWarning: \n",
      "A value is trying to be set on a copy of a slice from a DataFrame.\n",
      "Try using .loc[row_indexer,col_indexer] = value instead\n",
      "\n",
      "See the caveats in the documentation: https://pandas.pydata.org/pandas-docs/stable/user_guide/indexing.html#returning-a-view-versus-a-copy\n",
      "  train_X[col] = str_imputer.fit_transform(train_X[[col]])\n",
      "<ipython-input-169-8f448ca3ca65>:41: SettingWithCopyWarning: \n",
      "A value is trying to be set on a copy of a slice from a DataFrame.\n",
      "Try using .loc[row_indexer,col_indexer] = value instead\n",
      "\n",
      "See the caveats in the documentation: https://pandas.pydata.org/pandas-docs/stable/user_guide/indexing.html#returning-a-view-versus-a-copy\n",
      "  test_X[col] = str_imputer.fit_transform(test_X[[col]])\n",
      "<ipython-input-169-8f448ca3ca65>:40: SettingWithCopyWarning: \n",
      "A value is trying to be set on a copy of a slice from a DataFrame.\n",
      "Try using .loc[row_indexer,col_indexer] = value instead\n",
      "\n",
      "See the caveats in the documentation: https://pandas.pydata.org/pandas-docs/stable/user_guide/indexing.html#returning-a-view-versus-a-copy\n",
      "  train_X[col] = str_imputer.fit_transform(train_X[[col]])\n",
      "<ipython-input-169-8f448ca3ca65>:41: SettingWithCopyWarning: \n",
      "A value is trying to be set on a copy of a slice from a DataFrame.\n",
      "Try using .loc[row_indexer,col_indexer] = value instead\n",
      "\n",
      "See the caveats in the documentation: https://pandas.pydata.org/pandas-docs/stable/user_guide/indexing.html#returning-a-view-versus-a-copy\n",
      "  test_X[col] = str_imputer.fit_transform(test_X[[col]])\n",
      "<ipython-input-169-8f448ca3ca65>:40: SettingWithCopyWarning: \n",
      "A value is trying to be set on a copy of a slice from a DataFrame.\n",
      "Try using .loc[row_indexer,col_indexer] = value instead\n",
      "\n",
      "See the caveats in the documentation: https://pandas.pydata.org/pandas-docs/stable/user_guide/indexing.html#returning-a-view-versus-a-copy\n",
      "  train_X[col] = str_imputer.fit_transform(train_X[[col]])\n",
      "<ipython-input-169-8f448ca3ca65>:41: SettingWithCopyWarning: \n",
      "A value is trying to be set on a copy of a slice from a DataFrame.\n",
      "Try using .loc[row_indexer,col_indexer] = value instead\n",
      "\n",
      "See the caveats in the documentation: https://pandas.pydata.org/pandas-docs/stable/user_guide/indexing.html#returning-a-view-versus-a-copy\n",
      "  test_X[col] = str_imputer.fit_transform(test_X[[col]])\n"
     ]
    },
    {
     "data": {
      "text/plain": [
       "(119.4984798798469,\n",
       " array([[200.61780692],\n",
       "        [200.61780692],\n",
       "        [ 84.22673782],\n",
       "        ...,\n",
       "        [ 87.71757902],\n",
       "        [ 84.22673782],\n",
       "        [ 87.71757902]]))"
      ]
     },
     "execution_count": 169,
     "metadata": {},
     "output_type": "execute_result"
    }
   ],
   "source": [
    "def run_model(train_data,test_data):\n",
    "    #convert items to float\n",
    "    \n",
    "    def convert(x):\n",
    "        if x != x:\n",
    "            return x\n",
    "        try:\n",
    "            out = float(x)\n",
    "        except:\n",
    "            out = x\n",
    "        return out\n",
    "    train_d = train_data.copy()\n",
    "    train_d = train_d.applymap(convert)\n",
    "    steps = []\n",
    "    features = ['host_is_superhost','room_type','bed_type']\n",
    "    train_X = train_d[features]\n",
    "    y = train_d[['price']]\n",
    "    \n",
    "    test_d = test_data.copy()\n",
    "    \n",
    "    test_d = test_d.applymap(convert)\n",
    "    \n",
    "    test_X = test_d[features]\n",
    "    \n",
    "    \n",
    "    #The code below one hot encodes any string column and removes columns with more than half of the values as null\n",
    "    nulls = train_X.isnull().sum()\n",
    "    num_imputer = SimpleImputer(missing_values=np.nan, strategy='median')\n",
    "    str_imputer = SimpleImputer(missing_values=np.nan, strategy='constant')\n",
    "    for col in train_X.columns:\n",
    "        if nulls.loc[col] > (train_X.shape[0] / 2):\n",
    "            train_X = train_X.drop(col,axis = 1)\n",
    "            test_X = test_X.drop(col,axis = 1)\n",
    "            continue\n",
    "        temp = True\n",
    "        i = 0\n",
    "        while temp:\n",
    "            typ = type(train_X[col][i])\n",
    "            if typ == str:\n",
    "                train_X[col] = str_imputer.fit_transform(train_X[[col]])\n",
    "                test_X[col] = str_imputer.fit_transform(test_X[[col]])\n",
    "                steps.append((col,OneHotEncoder(handle_unknown='ignore'),[col]))\n",
    "                temp = False\n",
    "            elif math.isnan(train_X[col][i]):\n",
    "                i += 1\n",
    "                if i == train_X.shape[0]:\n",
    "                    temp = False\n",
    "            else:\n",
    "                try:\n",
    "                    train_X[col] = num_imputer.fit_transform(train_X[[col]])\n",
    "                    test_X[col] = num_imputer.fit_transform(test_X[[col]])\n",
    "                except:\n",
    "                    train_X = train_X.drop(col,axis = 1)\n",
    "                    test_X = test_X.drop(col,axis = 1)\n",
    "                temp = False\n",
    "    col_t = ColumnTransformer(steps)\n",
    "    train_X = col_t.fit_transform(train_X)\n",
    "    test_X = col_t.fit_transform(test_X)\n",
    "    \n",
    "    lr = LinearRegression(normalize = True)\n",
    "    fitted = lr.fit(train_X, y)\n",
    "\n",
    "    train_preds = fitted.predict(train_X)\n",
    "    test_preds = fitted.predict(test_X)\n",
    "    rmse = (mean_squared_error(y, train_preds)) ** (1/2)\n",
    "    \n",
    "    return rmse, test_preds\n",
    "rmse, test_preds = run_model(train_data, test_data)\n",
    "rmse, test_preds\n"
   ]
  },
  {
   "cell_type": "code",
   "execution_count": 102,
   "metadata": {},
   "outputs": [],
   "source": [
    "output_df = pd.DataFrame()\n",
    "output_df['Id'] = test_data['id']\n",
    "output_df['Predicted'] = test_preds\n",
    "output_df.to_csv('final.csv', index = False)"
   ]
  },
  {
   "cell_type": "code",
   "execution_count": 105,
   "metadata": {},
   "outputs": [
    {
     "data": {
      "text/plain": [
       "array([0])"
      ]
     },
     "execution_count": 105,
     "metadata": {},
     "output_type": "execute_result"
    }
   ],
   "source": [
    "\n",
    "sum(test_preds1 == test_preds)"
   ]
  },
  {
   "cell_type": "code",
   "execution_count": 85,
   "metadata": {},
   "outputs": [
    {
     "data": {
      "text/html": [
       "<div>\n",
       "<style scoped>\n",
       "    .dataframe tbody tr th:only-of-type {\n",
       "        vertical-align: middle;\n",
       "    }\n",
       "\n",
       "    .dataframe tbody tr th {\n",
       "        vertical-align: top;\n",
       "    }\n",
       "\n",
       "    .dataframe thead th {\n",
       "        text-align: right;\n",
       "    }\n",
       "</style>\n",
       "<table border=\"1\" class=\"dataframe\">\n",
       "  <thead>\n",
       "    <tr style=\"text-align: right;\">\n",
       "      <th></th>\n",
       "      <th>Id</th>\n",
       "      <th>Predicted</th>\n",
       "    </tr>\n",
       "  </thead>\n",
       "  <tbody>\n",
       "    <tr>\n",
       "      <th>0</th>\n",
       "      <td>19307997</td>\n",
       "      <td>195.054688</td>\n",
       "    </tr>\n",
       "    <tr>\n",
       "      <th>1</th>\n",
       "      <td>20176193</td>\n",
       "      <td>200.304688</td>\n",
       "    </tr>\n",
       "    <tr>\n",
       "      <th>2</th>\n",
       "      <td>19485371</td>\n",
       "      <td>84.804688</td>\n",
       "    </tr>\n",
       "    <tr>\n",
       "      <th>3</th>\n",
       "      <td>13079990</td>\n",
       "      <td>81.804688</td>\n",
       "    </tr>\n",
       "    <tr>\n",
       "      <th>4</th>\n",
       "      <td>22339757</td>\n",
       "      <td>90.492188</td>\n",
       "    </tr>\n",
       "    <tr>\n",
       "      <th>...</th>\n",
       "      <td>...</td>\n",
       "      <td>...</td>\n",
       "    </tr>\n",
       "    <tr>\n",
       "      <th>17332</th>\n",
       "      <td>22325617</td>\n",
       "      <td>84.804688</td>\n",
       "    </tr>\n",
       "    <tr>\n",
       "      <th>17333</th>\n",
       "      <td>8372650</td>\n",
       "      <td>195.054688</td>\n",
       "    </tr>\n",
       "    <tr>\n",
       "      <th>17334</th>\n",
       "      <td>3812554</td>\n",
       "      <td>90.992188</td>\n",
       "    </tr>\n",
       "    <tr>\n",
       "      <th>17335</th>\n",
       "      <td>18891508</td>\n",
       "      <td>90.054688</td>\n",
       "    </tr>\n",
       "    <tr>\n",
       "      <th>17336</th>\n",
       "      <td>18111901</td>\n",
       "      <td>82.804688</td>\n",
       "    </tr>\n",
       "  </tbody>\n",
       "</table>\n",
       "<p>17337 rows × 2 columns</p>\n",
       "</div>"
      ],
      "text/plain": [
       "             Id   Predicted\n",
       "0      19307997  195.054688\n",
       "1      20176193  200.304688\n",
       "2      19485371   84.804688\n",
       "3      13079990   81.804688\n",
       "4      22339757   90.492188\n",
       "...         ...         ...\n",
       "17332  22325617   84.804688\n",
       "17333   8372650  195.054688\n",
       "17334   3812554   90.992188\n",
       "17335  18891508   90.054688\n",
       "17336  18111901   82.804688\n",
       "\n",
       "[17337 rows x 2 columns]"
      ]
     },
     "execution_count": 85,
     "metadata": {},
     "output_type": "execute_result"
    }
   ],
   "source": [
    "output_df"
   ]
  },
  {
   "cell_type": "code",
   "execution_count": null,
   "metadata": {},
   "outputs": [],
   "source": []
  }
 ],
 "metadata": {
  "kernelspec": {
   "display_name": "Python 3",
   "language": "python",
   "name": "python3"
  },
  "language_info": {
   "codemirror_mode": {
    "name": "ipython",
    "version": 3
   },
   "file_extension": ".py",
   "mimetype": "text/x-python",
   "name": "python",
   "nbconvert_exporter": "python",
   "pygments_lexer": "ipython3",
   "version": "3.8.3"
  }
 },
 "nbformat": 4,
 "nbformat_minor": 2
}
